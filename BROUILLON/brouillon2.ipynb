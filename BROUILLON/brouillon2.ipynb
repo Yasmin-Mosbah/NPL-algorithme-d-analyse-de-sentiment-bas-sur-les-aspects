{
 "cells": [
  {
   "cell_type": "code",
   "execution_count": null,
   "metadata": {},
   "outputs": [],
   "source": [
    "def aspect_pol(negatif,positif,text):\n",
    "    #text = laptop_train[0]\n",
    "    token = nltk.word_tokenize((text[0].lower()))\n",
    "    tagged = nltk.pos_tag(token)\n",
    "    termslist = []\n",
    "    res = []\n",
    "    for i in range(len(text)-1):\n",
    "        termslist.append(text[i+1]['term'])\n",
    "    terms = termslist.copy() \n",
    "    for word in token :\n",
    "        for aspect in termslist:\n",
    "            if word in aspect :\n",
    "                part = text[0][:text[0].find(aspect)] # pas ici ajouter fonction qui recup les mots clés\n",
    "                res.append(before_neg_matching(negatif, positif, part))\n",
    "                termslist.remove(aspect)\n",
    "    return terms, res"
   ]
  },
  {
   "cell_type": "code",
   "execution_count": null,
   "metadata": {},
   "outputs": [],
   "source": [
    "#aspect_pol(negatif,positif,resto_train[2])"
   ]
  },
  {
   "cell_type": "code",
   "execution_count": null,
   "metadata": {},
   "outputs": [],
   "source": [
    "#Polarité par apsect et par com (ancienne version)\n",
    "def com_polarity(negatif,positif,data):\n",
    "    datapol = []\n",
    "    for i in range(len(data)):\n",
    "        #datapol.append(before_neg_matching(negatif,positif,data[i][0])) \n",
    "        datapol.append(aspect_pol(negatif,positif,data[i])) \n",
    "    return datapol"
   ]
  },
  {
   "cell_type": "code",
   "execution_count": null,
   "metadata": {},
   "outputs": [],
   "source": [
    "#Polarité par apsect et par com (ancienne version)\n",
    "resfinal_resto = com_polarity(negatif,positif,resto_train)\n",
    "resfinal_laptop = com_polarity(negatif,positif,laptop_train)"
   ]
  },
  {
   "cell_type": "code",
   "execution_count": null,
   "metadata": {},
   "outputs": [],
   "source": [
    "#ON compare les mots avec la base de données (ancienne version)\n",
    "def is_matching(negatif,positif,texte):\n",
    "    nbneg = 0\n",
    "    nbpos = 0\n",
    "    #texte = no_stopword(texte)\n",
    "    for i in range(len(texte)):\n",
    "        for mot1 in negatif:\n",
    "            if texte[i].lower() == mot1[0].lower():\n",
    "                nbneg += 1            \n",
    "        for mot2 in positif :\n",
    "            if texte[i].lower() == mot2[0].lower():\n",
    "                nbpos += 1\n",
    "    return nbneg/len(texte), nbpos/len(texte)"
   ]
  },
  {
   "cell_type": "code",
   "execution_count": null,
   "metadata": {},
   "outputs": [],
   "source": [
    "#def sentiword(com):\n",
    "com =  resto_keywords[0][0].copy()\n",
    "print(com[0][1])\n",
    "for i in range(len(com)):\n",
    "    if com[i][1] == \"RB\" :\n",
    "        print((list(swn.senti_synsets(com[i][0],'r'))[0]).neg_score())\n",
    "(list(swn.senti_synsets(\"die\",'r'))[0]).neg_score()"
   ]
  },
  {
   "cell_type": "code",
   "execution_count": null,
   "metadata": {},
   "outputs": [],
   "source": [
    "#Polarité par apsect en prenant en compte les mots neg et par com (ancienne version)\n",
    "def before_neg_matching(negatif, positif, text):\n",
    "    nbneg = 0\n",
    "    nbpos = 0\n",
    "    texte = nltk.word_tokenize((text.lower()))\n",
    "    if \"not\" in texte or \"n't\" in texte:\n",
    "        for mot1 in negatif:\n",
    "            if texte[0].lower() == mot1[0].lower():\n",
    "                nbneg += 1            \n",
    "        for mot2 in positif :\n",
    "            if texte[0].lower() == mot2[0].lower():\n",
    "                nbpos += 1\n",
    "        for i in range(len(texte)-1):\n",
    "            for mot1 in negatif:\n",
    "                if texte[i+1].lower() == mot1[0].lower():\n",
    "                    if texte[i] == \"not\" or texte[i] ==\"n't\":\n",
    "                        nbpos += 1\n",
    "                    else :\n",
    "                        nbneg += 1\n",
    "            for mot2 in positif :\n",
    "                if texte[i+1].lower() == mot2[0].lower():\n",
    "                    if texte[i] == \"not\" or texte[i] ==\"n't\":\n",
    "                        nbneg += 1\n",
    "                    else :\n",
    "                        nbpos += 1\n",
    "    else :\n",
    "        for i in range(len(texte)):\n",
    "            for mot1 in negatif:\n",
    "                if texte[i].lower() == mot1[0].lower():\n",
    "                    nbneg += 1            \n",
    "            for mot2 in positif :\n",
    "                if texte[i].lower() == mot2[0].lower():\n",
    "                    nbpos += 1\n",
    "    #return [nbneg/len(texte), nbpos/len(texte)]\n",
    "    return [nbneg, nbpos]"
   ]
  },
  {
   "cell_type": "code",
   "execution_count": null,
   "metadata": {},
   "outputs": [],
   "source": [
    "def com_polarity(data):\n",
    "    datalist = []\n",
    "    for com in data :\n",
    "        comlist =  []\n",
    "        for aspect in com:\n",
    "            aspectlist = []\n",
    "            for tagged in aspect :\n",
    "                '''\n",
    "                type =\"\"\n",
    "                if tagged[1] == \"NN\":\n",
    "                    type = 'n'\n",
    "                elif tagged[1] == \"RP\" or tagged[1] == \"RB\":\n",
    "                    type = 'r'                    \n",
    "                elif tagged[1] == \"JJ\":\n",
    "                    type = 'a'\n",
    "                '''  \n",
    "                if len(tagged) != 0 :\n",
    "                    word = lem.lemmatize(tagged[0])\n",
    "                else :\n",
    "                    word = \" \"\n",
    "                nbneg = 0\n",
    "                nbpos = 0\n",
    "                for mot_neg in negatif:\n",
    "                    ratio = difflib.SequenceMatcher(None,word,mot_neg[0]).ratio()\n",
    "                    if ratio > 0.95:\n",
    "                        nbneg += 1\n",
    "                for mot_pos in positif:\n",
    "                    ratio = difflib.SequenceMatcher(None,word,mot_pos[0]).ratio()\n",
    "                    if ratio > 0.95:\n",
    "                        nbpos += 1       \n",
    "                if nbneg>nbpos :\n",
    "                    aspectlist.append(-1)\n",
    "                elif nbneg<nbpos:\n",
    "                    aspectlist.append(1)\n",
    "                elif nbneg == nbpos:\n",
    "                    aspectlist.append(0)\n",
    "            if len(aspectlist) < 1 :\n",
    "                aspectlist.append(0)\n",
    "            somme = sum(aspectlist)\n",
    "            if somme > 0 :\n",
    "                comlist.append(1)\n",
    "            elif somme < 0 :\n",
    "                comlist.append(-1)\n",
    "            else :               \n",
    "                comlist.append(0)\n",
    "                \n",
    "        datalist.append(comlist)\n",
    "    return datalist "
   ]
  }
 ],
 "metadata": {
  "kernelspec": {
   "display_name": "Python 3",
   "language": "python",
   "name": "python3"
  },
  "language_info": {
   "codemirror_mode": {
    "name": "ipython",
    "version": 3
   },
   "file_extension": ".py",
   "mimetype": "text/x-python",
   "name": "python",
   "nbconvert_exporter": "python",
   "pygments_lexer": "ipython3",
   "version": "3.8.5"
  }
 },
 "nbformat": 4,
 "nbformat_minor": 4
}
