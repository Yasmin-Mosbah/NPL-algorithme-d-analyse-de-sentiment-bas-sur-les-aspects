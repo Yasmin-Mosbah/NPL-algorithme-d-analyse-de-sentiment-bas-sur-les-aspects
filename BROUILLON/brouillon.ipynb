{
 "cells": [
  {
   "cell_type": "code",
   "execution_count": null,
   "metadata": {},
   "outputs": [],
   "source": [
    "data = resto_train\n",
    "\n",
    "for i in range(len(resto_train)):\n",
    "    for j in range(len(resto_train[i]) -1):\n",
    "        #print(resto_train[i])\n",
    "        for pol,val in resto_train[i][j+1].items() :\n",
    "            if pol == 'polarity' and val != \"conflict\":\n",
    "                print(val)"
   ]
  },
  {
   "cell_type": "code",
   "execution_count": null,
   "metadata": {},
   "outputs": [],
   "source": [
    "for i in range(len(term)-1):\n",
    "                for pol,val in term[i+1].items() :\n",
    "                    if pol == 'polarity' and val != \"conflict\":\n",
    "                        print(term)"
   ]
  },
  {
   "cell_type": "code",
   "execution_count": null,
   "metadata": {},
   "outputs": [],
   "source": [
    "#Extraction des données et suppression des données inutiles (ne comportant pas d'apsect terms)\n",
    "\n",
    "def xmltodata(xml):\n",
    "    df = et.parse(xml)\n",
    "    data  = df.getroot()\n",
    "\n",
    "    texte = []\n",
    "    for texts in data:\n",
    "        term = []\n",
    "        for text in texts:\n",
    "            if text.tag == \"text\" :\n",
    "                term.append(text.text)\n",
    "            elif text.tag == \"aspectTerms\":\n",
    "                for at in text :\n",
    "                    term.append(at.attrib)\n",
    "        if len(term)>1:\n",
    "            texte.append(term)\n",
    "            #print(term)\n",
    "        #texte.append(term)\n",
    "    return texte"
   ]
  },
  {
   "cell_type": "code",
   "execution_count": null,
   "metadata": {},
   "outputs": [],
   "source": [
    "#Extraction des données et suppression des données inutiles (ne comportant pas d'apsect terms)\n",
    "\n",
    "def xmltodata(xml):\n",
    "    df = et.parse(xml)\n",
    "    data  = df.getroot()\n",
    "\n",
    "    texte = []\n",
    "    for texts in data:\n",
    "        term = []\n",
    "        for text in texts:\n",
    "            if text.tag == \"text\" :\n",
    "                term.append(text.text)\n",
    "            elif text.tag == \"aspectTerms\":\n",
    "                for at in text :\n",
    "                    for pol,val in at.attrib.items() :\n",
    "                        if pol == 'polarity' and val != \"conflict\":\n",
    "                            #print(at.attrib.items())\n",
    "                            term.append(at.attrib)\n",
    "        if len(term)>1:\n",
    "            texte.append(term)\n",
    "            #print(term)\n",
    "        #texte.append(term)\n",
    "    return texte"
   ]
  },
  {
   "cell_type": "markdown",
   "metadata": {},
   "source": [
    "https://pypi.org/project/libsvm/\n",
    "https://scikit-learn.org/stable/modules/svm.html"
   ]
  },
  {
   "cell_type": "code",
   "execution_count": null,
   "metadata": {},
   "outputs": [],
   "source": [
    "def is_matching(negatif,positif,token,tagged):\n",
    "    words = []\n",
    "    for i in range(len(token)):\n",
    "        matchingword = [\"\",0,0]\n",
    "        sco = 0\n",
    "        for j in range(len(negatif)):\n",
    "            sc = difflib.SequenceMatcher(None,token[i],negatif[j][0]).ratio()\n",
    "            #print(sc)\n",
    "            if sc > matchingword[1]:\n",
    "                matchingword = [negatif[i][0],sc,-1]\n",
    "        for k in range(len(positif)):\n",
    "            sc = difflib.SequenceMatcher(None,token[i],positif[k][0]).ratio()\n",
    "            if sc > matchingword[1]:\n",
    "                matchingword = [positif[i][0],sc,1]\n",
    "        words.append(matchingword)\n",
    "    return words"
   ]
  },
  {
   "cell_type": "code",
   "execution_count": null,
   "metadata": {},
   "outputs": [],
   "source": [
    "from nltk.corpus import stopwords  \n",
    "from nltk.tokenize import word_tokenize  \n",
    "  \n",
    "example_sent = \"\"\"This is a sample sentence, \n",
    "                  showing off the stop words filtration.\"\"\"\n",
    "  \n",
    "stop_words = set(stopwords.words('english'))  \n",
    "  \n",
    "word_tokens = word_tokenize(example_sent)  \n",
    "  \n",
    "filtered_sentence = [w for w in word_tokens if not w in stop_words]  \n",
    "  \n",
    "filtered_sentence = []  \n",
    "  \n",
    "for w in word_tokens:  \n",
    "    if w not in stop_words:  \n",
    "        filtered_sentence.append(w)  \n",
    "  \n",
    "print(word_tokens)  \n",
    "print(filtered_sentence)  "
   ]
  },
  {
   "cell_type": "markdown",
   "metadata": {},
   "source": [
    "http://www.nltk.org/api/nltk.parse.html"
   ]
  },
  {
   "cell_type": "markdown",
   "metadata": {},
   "source": [
    "https://nlp.stanford.edu/software/lex-parser.shtml"
   ]
  },
  {
   "cell_type": "markdown",
   "metadata": {},
   "source": [
    "https://www.geeksforgeeks.org/python-sentiment-analysis-using-vader/?ref=lbp\n",
    "https://www.geeksforgeeks.org/python-lemmatization-with-nltk/\n",
    "https://www.geeksforgeeks.org/python-nlp-analysis-of-restaurant-reviews/?ref=lbp"
   ]
  },
  {
   "cell_type": "markdown",
   "metadata": {},
   "source": [
    "https://www.nltk.org/book/ch03.html#chap-words\n",
    "https://www.nltk.org/book/ch07.html"
   ]
  },
  {
   "cell_type": "code",
   "execution_count": null,
   "metadata": {},
   "outputs": [],
   "source": [
    "text = resto_train[20]\n",
    "print(text)\n",
    "termslist = []\n",
    "textsplit = []\n",
    "for i in range(len(text)-1):\n",
    "    termslist.append(text[i+1]['term'])\n",
    "    \n",
    "if len(termslist) > 1 :\n",
    "    for a in termslist :\n",
    "        split = text[0].split(a)\n",
    "        if len(textsplit) < 1:\n",
    "            textsplit.append(split[0])\n",
    "        else :\n",
    "            textsplit.append(split[1])\n",
    "else :\n",
    "    textsplit = text[0]\n",
    "textsplit"
   ]
  },
  {
   "cell_type": "code",
   "execution_count": null,
   "metadata": {},
   "outputs": [],
   "source": [
    "import re\n",
    "aspects_terms =[\"food\", \"menu\", \"kitchen\"]\n",
    "text = \"The food is uniformly exceptional, with a very capable kitchen which will proudly whip up whatever you feel like eating, whether it's on the menu or not.\"\n",
    "\n",
    "def flag_text(aspects_terms, text):\n",
    "    sentences = re.split(r' *[\\.\\?!,][\\'\"\\)\\]]* *', text)\n",
    "    \n",
    "    dict_terms_sentences = {curr_aspect : [curr_sentence for curr_sentence in sentences \n",
    "                                                            if curr_aspect.lower() in curr_sentence.lower()] \n",
    "                                                            for curr_aspect in aspects_terms}\n",
    "    return dict_terms_sentences\n",
    "\n",
    "print(flag_text(aspects_terms, text))"
   ]
  },
  {
   "cell_type": "code",
   "execution_count": null,
   "metadata": {},
   "outputs": [],
   "source": [
    "def flag_text(texte):\n",
    "    \n",
    "    text = texte[0]\n",
    "    aspects_terms = []\n",
    "    for i in range(len(texte)-1):\n",
    "        aspects_terms.append(texte[i+1]['term'])\n",
    "    \n",
    "    sentences = re.split(r' *[\\.\\?!,][\\'\"\\)\\]]* *', text)\n",
    "    sentences.remove(\"\")\n",
    "    \n",
    "    if len(sentences) == len (aspects_terms) :\n",
    "        \n",
    "        dict_terms_sentences = {curr_aspect : [curr_sentence for curr_sentence in sentences \n",
    "                                                                if curr_aspect.lower() in curr_sentence.lower()] \n",
    "                                                                for curr_aspect in aspects_terms}\n",
    "    elif len(aspects_terms) > 1 :\n",
    "        \n",
    "        for term in aspects_terms :\n",
    "            split = text.split(term)\n",
    "            \n",
    "            \n",
    "        if len(textsplit) < 1:\n",
    "            #dict_terms_sentences.append({aspects_terms})\n",
    "            textsplit.append(split[0])\n",
    "            \n",
    "        else :\n",
    "            \n",
    "            textsplit.append(split[1])\n",
    "            \n",
    "    else :\n",
    "        \n",
    "       # dict_terms_sentences = text\n",
    "        dict_terms_sentences = { aspects_terms[0] : [text]}\n",
    "    \n",
    "    return dict_terms_sentences\n",
    "\n",
    "text = resto_train[2]\n",
    "print(flag_text(text))"
   ]
  },
  {
   "cell_type": "code",
   "execution_count": null,
   "metadata": {},
   "outputs": [],
   "source": []
  }
 ],
 "metadata": {
  "kernelspec": {
   "display_name": "Python 3",
   "language": "python",
   "name": "python3"
  },
  "language_info": {
   "codemirror_mode": {
    "name": "ipython",
    "version": 3
   },
   "file_extension": ".py",
   "mimetype": "text/x-python",
   "name": "python",
   "nbconvert_exporter": "python",
   "pygments_lexer": "ipython3",
   "version": "3.8.5"
  }
 },
 "nbformat": 4,
 "nbformat_minor": 4
}
